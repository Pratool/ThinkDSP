{
 "metadata": {
  "name": "",
  "signature": "sha256:cbba6de32e95108d2ec6dccabd12e2de23fb897066144f98b4e77a13d72e93d5"
 },
 "nbformat": 3,
 "nbformat_minor": 0,
 "worksheets": [
  {
   "cells": [
    {
     "cell_type": "code",
     "collapsed": false,
     "input": [
      "%matplotlib inline\n",
      "import sys\n",
      "import os\n",
      "sys.path.append(os.path.abspath(\"../code/\"))\n",
      "import thinkdsp\n",
      "import thinkplot\n",
      "import numpy as np"
     ],
     "language": "python",
     "metadata": {},
     "outputs": []
    }
   ],
   "metadata": {}
  }
 ]
}